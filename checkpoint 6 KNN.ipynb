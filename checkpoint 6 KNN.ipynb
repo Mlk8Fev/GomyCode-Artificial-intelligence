{
 "cells": [
  {
   "cell_type": "code",
   "execution_count": 1,
   "id": "a926af19",
   "metadata": {},
   "outputs": [
    {
     "name": "stdout",
     "output_type": "stream",
     "text": [
      "5.1,3.5,1.4,0.2,Iris-setosa\n",
      "4.9,3.0,1.4,0.2,Iris-setosa\n",
      "4.7,3.2,1.3,0.2,Iris-setosa\n",
      "4.6,3.1,1.5,0.2,Iris-setosa\n",
      "5.0,3.6,1.4,0.2,Iris-setosa\n",
      "5.4,3.9,1.7,0.4,Iris-setosa\n",
      "4.6,3.4,1.4,0.3,Iris-setosa\n",
      "5.0,3.4,1.5,0.2,Iris-setosa\n",
      "4.4,2.9,1.4,0.2,Iris-setosa\n",
      "4.9,3.1,1.5,0.1,Iris-setosa\n",
      "5.4,3.7,1.5,0.2,Iris-setosa\n",
      "4.8,3.4,1.6,0.2,Iris-setosa\n",
      "4.8,3.0,1.4,0.1,Iris-setosa\n",
      "4.3,3.0,1.1,0.1,Iris-setosa\n",
      "5.8,4.0,1.2,0.2,Iris-setosa\n",
      "5.7,4.4,1.5,0.4,Iris-setosa\n",
      "5.4,3.9,1.3,0.4,Iris-setosa\n",
      "5.1,3.5,1.4,0.3,Iris-setosa\n",
      "5.7,3.8,1.7,0.3,Iris-setosa\n",
      "5.1,3.8,1.5,0.3,Iris-setosa\n",
      "5.4,3.4,1.7,0.2,Iris-setosa\n",
      "5.1,3.7,1.5,0.4,Iris-setosa\n",
      "4.6,3.6,1.0,0.2,Iris-setosa\n",
      "5.1,3.3,1.7,0.5,Iris-setosa\n",
      "4.8,3.4,1.9,0.2,Iris-setosa\n",
      "5.0,3.0,1.6,0.2,Iris-setosa\n",
      "5.0,3.4,1.6,0.4,Iris-setosa\n",
      "5.2,3.5,1.5,0.2,Iris-setosa\n",
      "5.2,3.4,1.4,0.2,Iris-setosa\n",
      "4.7,3.2,1.6,0.2,Iris-setosa\n",
      "4.8,3.1,1.6,0.2,Iris-setosa\n",
      "5.4,3.4,1.5,0.4,Iris-setosa\n",
      "5.2,4.1,1.5,0.1,Iris-setosa\n",
      "5.5,4.2,1.4,0.2,Iris-setosa\n",
      "4.9,3.1,1.5,0.1,Iris-setosa\n",
      "5.0,3.2,1.2,0.2,Iris-setosa\n",
      "5.5,3.5,1.3,0.2,Iris-setosa\n",
      "4.9,3.1,1.5,0.1,Iris-setosa\n",
      "4.4,3.0,1.3,0.2,Iris-setosa\n",
      "5.1,3.4,1.5,0.2,Iris-setosa\n",
      "5.0,3.5,1.3,0.3,Iris-setosa\n",
      "4.5,2.3,1.3,0.3,Iris-setosa\n",
      "4.4,3.2,1.3,0.2,Iris-setosa\n",
      "5.0,3.5,1.6,0.6,Iris-setosa\n",
      "5.1,3.8,1.9,0.4,Iris-setosa\n",
      "4.8,3.0,1.4,0.3,Iris-setosa\n",
      "5.1,3.8,1.6,0.2,Iris-setosa\n",
      "4.6,3.2,1.4,0.2,Iris-setosa\n",
      "5.3,3.7,1.5,0.2,Iris-setosa\n",
      "5.0,3.3,1.4,0.2,Iris-setosa\n",
      "7.0,3.2,4.7,1.4,Iris-versicolor\n",
      "6.4,3.2,4.5,1.5,Iris-versicolor\n",
      "6.9,3.1,4.9,1.5,Iris-versicolor\n",
      "5.5,2.3,4.0,1.3,Iris-versicolor\n",
      "6.5,2.8,4.6,1.5,Iris-versicolor\n",
      "5.7,2.8,4.5,1.3,Iris-versicolor\n",
      "6.3,3.3,4.7,1.6,Iris-versicolor\n",
      "4.9,2.4,3.3,1.0,Iris-versicolor\n",
      "6.6,2.9,4.6,1.3,Iris-versicolor\n",
      "5.2,2.7,3.9,1.4,Iris-versicolor\n",
      "5.0,2.0,3.5,1.0,Iris-versicolor\n",
      "5.9,3.0,4.2,1.5,Iris-versicolor\n",
      "6.0,2.2,4.0,1.0,Iris-versicolor\n",
      "6.1,2.9,4.7,1.4,Iris-versicolor\n",
      "5.6,2.9,3.6,1.3,Iris-versicolor\n",
      "6.7,3.1,4.4,1.4,Iris-versicolor\n",
      "5.6,3.0,4.5,1.5,Iris-versicolor\n",
      "5.8,2.7,4.1,1.0,Iris-versicolor\n",
      "6.2,2.2,4.5,1.5,Iris-versicolor\n",
      "5.6,2.5,3.9,1.1,Iris-versicolor\n",
      "5.9,3.2,4.8,1.8,Iris-versicolor\n",
      "6.1,2.8,4.0,1.3,Iris-versicolor\n",
      "6.3,2.5,4.9,1.5,Iris-versicolor\n",
      "6.1,2.8,4.7,1.2,Iris-versicolor\n",
      "6.4,2.9,4.3,1.3,Iris-versicolor\n",
      "6.6,3.0,4.4,1.4,Iris-versicolor\n",
      "6.8,2.8,4.8,1.4,Iris-versicolor\n",
      "6.7,3.0,5.0,1.7,Iris-versicolor\n",
      "6.0,2.9,4.5,1.5,Iris-versicolor\n",
      "5.7,2.6,3.5,1.0,Iris-versicolor\n",
      "5.5,2.4,3.8,1.1,Iris-versicolor\n",
      "5.5,2.4,3.7,1.0,Iris-versicolor\n",
      "5.8,2.7,3.9,1.2,Iris-versicolor\n",
      "6.0,2.7,5.1,1.6,Iris-versicolor\n",
      "5.4,3.0,4.5,1.5,Iris-versicolor\n",
      "6.0,3.4,4.5,1.6,Iris-versicolor\n",
      "6.7,3.1,4.7,1.5,Iris-versicolor\n",
      "6.3,2.3,4.4,1.3,Iris-versicolor\n",
      "5.6,3.0,4.1,1.3,Iris-versicolor\n",
      "5.5,2.5,4.0,1.3,Iris-versicolor\n",
      "5.5,2.6,4.4,1.2,Iris-versicolor\n",
      "6.1,3.0,4.6,1.4,Iris-versicolor\n",
      "5.8,2.6,4.0,1.2,Iris-versicolor\n",
      "5.0,2.3,3.3,1.0,Iris-versicolor\n",
      "5.6,2.7,4.2,1.3,Iris-versicolor\n",
      "5.7,3.0,4.2,1.2,Iris-versicolor\n",
      "5.7,2.9,4.2,1.3,Iris-versicolor\n",
      "6.2,2.9,4.3,1.3,Iris-versicolor\n",
      "5.1,2.5,3.0,1.1,Iris-versicolor\n",
      "5.7,2.8,4.1,1.3,Iris-versicolor\n",
      "6.3,3.3,6.0,2.5,Iris-virginica\n",
      "5.8,2.7,5.1,1.9,Iris-virginica\n",
      "7.1,3.0,5.9,2.1,Iris-virginica\n",
      "6.3,2.9,5.6,1.8,Iris-virginica\n",
      "6.5,3.0,5.8,2.2,Iris-virginica\n",
      "7.6,3.0,6.6,2.1,Iris-virginica\n",
      "4.9,2.5,4.5,1.7,Iris-virginica\n",
      "7.3,2.9,6.3,1.8,Iris-virginica\n",
      "6.7,2.5,5.8,1.8,Iris-virginica\n",
      "7.2,3.6,6.1,2.5,Iris-virginica\n",
      "6.5,3.2,5.1,2.0,Iris-virginica\n",
      "6.4,2.7,5.3,1.9,Iris-virginica\n",
      "6.8,3.0,5.5,2.1,Iris-virginica\n",
      "5.7,2.5,5.0,2.0,Iris-virginica\n",
      "5.8,2.8,5.1,2.4,Iris-virginica\n",
      "6.4,3.2,5.3,2.3,Iris-virginica\n",
      "6.5,3.0,5.5,1.8,Iris-virginica\n",
      "7.7,3.8,6.7,2.2,Iris-virginica\n",
      "7.7,2.6,6.9,2.3,Iris-virginica\n",
      "6.0,2.2,5.0,1.5,Iris-virginica\n",
      "6.9,3.2,5.7,2.3,Iris-virginica\n",
      "5.6,2.8,4.9,2.0,Iris-virginica\n",
      "7.7,2.8,6.7,2.0,Iris-virginica\n",
      "6.3,2.7,4.9,1.8,Iris-virginica\n",
      "6.7,3.3,5.7,2.1,Iris-virginica\n",
      "7.2,3.2,6.0,1.8,Iris-virginica\n",
      "6.2,2.8,4.8,1.8,Iris-virginica\n",
      "6.1,3.0,4.9,1.8,Iris-virginica\n",
      "6.4,2.8,5.6,2.1,Iris-virginica\n",
      "7.2,3.0,5.8,1.6,Iris-virginica\n",
      "7.4,2.8,6.1,1.9,Iris-virginica\n",
      "7.9,3.8,6.4,2.0,Iris-virginica\n",
      "6.4,2.8,5.6,2.2,Iris-virginica\n",
      "6.3,2.8,5.1,1.5,Iris-virginica\n",
      "6.1,2.6,5.6,1.4,Iris-virginica\n",
      "7.7,3.0,6.1,2.3,Iris-virginica\n",
      "6.3,3.4,5.6,2.4,Iris-virginica\n",
      "6.4,3.1,5.5,1.8,Iris-virginica\n",
      "6.0,3.0,4.8,1.8,Iris-virginica\n",
      "6.9,3.1,5.4,2.1,Iris-virginica\n",
      "6.7,3.1,5.6,2.4,Iris-virginica\n",
      "6.9,3.1,5.1,2.3,Iris-virginica\n",
      "5.8,2.7,5.1,1.9,Iris-virginica\n",
      "6.8,3.2,5.9,2.3,Iris-virginica\n",
      "6.7,3.3,5.7,2.5,Iris-virginica\n",
      "6.7,3.0,5.2,2.3,Iris-virginica\n",
      "6.3,2.5,5.0,1.9,Iris-virginica\n",
      "6.5,3.0,5.2,2.0,Iris-virginica\n",
      "6.2,3.4,5.4,2.3,Iris-virginica\n",
      "5.9,3.0,5.1,1.8,Iris-virginica\n"
     ]
    }
   ],
   "source": [
    "import csv\n",
    "with open('iris.data.txt', 'r') as csvfile:\n",
    "\n",
    "    lines = csv.reader(csvfile)\n",
    "\n",
    "    for row in lines :\n",
    "\n",
    "        print (','.join(row))"
   ]
  },
  {
   "cell_type": "markdown",
   "id": "f3862aa0",
   "metadata": {},
   "source": [
    "# Handle Data"
   ]
  },
  {
   "cell_type": "code",
   "execution_count": 14,
   "id": "fcc13268",
   "metadata": {},
   "outputs": [
    {
     "name": "stdout",
     "output_type": "stream",
     "text": [
      "train: 8\n",
      "test: 54\n"
     ]
    }
   ],
   "source": [
    "import random\n",
    "def loadDataset(filename, split, trainingSet=[] , testSet=[]):\n",
    "    with open(filename, 'r') as csvfile:\n",
    "        lines = csv.reader(csvfile)\n",
    "        dataset = list(lines)\n",
    "        for x in range(len(dataset)):\n",
    "            for y in range(4):\n",
    "                dataset[x][y] = float(dataset[x][y])\n",
    "            if random.random() < split:\n",
    "                trainingSet.append(dataset[x])\n",
    "            else:\n",
    "                testSet.append(dataset[x])\n",
    "                trainingSet=[]\n",
    "trainingSet=[]\n",
    "\n",
    "testSet=[]\n",
    "\n",
    "loadDataset('iris.data.txt', 0.66, trainingSet, testSet)\n",
    "\n",
    "print ('train: ' + repr(len(trainingSet)))\n",
    "\n",
    "print ('test: ' + repr(len(testSet)) )"
   ]
  },
  {
   "cell_type": "markdown",
   "id": "218bfd25",
   "metadata": {},
   "source": [
    "# Similarity"
   ]
  },
  {
   "cell_type": "code",
   "execution_count": 3,
   "id": "46094788",
   "metadata": {},
   "outputs": [],
   "source": [
    "import math\n",
    "def euclideanDistance(instance1, instance2, length):\n",
    "    distance = 0\n",
    "    for x in range(length):\n",
    "        distance += pow((instance1[x] - instance2[x]), 2)\n",
    "    return math.sqrt(distance)"
   ]
  },
  {
   "cell_type": "code",
   "execution_count": 4,
   "id": "86773a5d",
   "metadata": {},
   "outputs": [
    {
     "name": "stdout",
     "output_type": "stream",
     "text": [
      "Distance: 2.8284271247461903\n"
     ]
    }
   ],
   "source": [
    "data1 = [2, 2, 2, 'a']\n",
    "\n",
    "data2 = [4, 4, 4, 'b']\n",
    "\n",
    "distance = euclideanDistance(data1, data2, 2)\n",
    "\n",
    "print('Distance: ' + repr(distance))"
   ]
  },
  {
   "cell_type": "markdown",
   "id": "e0aebda5",
   "metadata": {},
   "source": [
    "# Neighbors\n",
    "\n"
   ]
  },
  {
   "cell_type": "code",
   "execution_count": 5,
   "id": "47a8462f",
   "metadata": {},
   "outputs": [
    {
     "name": "stdout",
     "output_type": "stream",
     "text": [
      "[[4, 4, 4, 'b']]\n"
     ]
    }
   ],
   "source": [
    "import operator\n",
    "def getNeighbors(trainingSet, testInstance, k):\n",
    "    distances = []\n",
    "    length = len(testInstance)-1\n",
    "    for x in range(len(trainingSet)):\n",
    "        dist = euclideanDistance(testInstance, trainingSet[x], length)\n",
    "        distances.append((trainingSet[x], dist))\n",
    "    distances.sort(key = operator.itemgetter(1))\n",
    "    neighbors = []\n",
    "    for x in range(k):\n",
    "        neighbors.append(distances[x][0])\n",
    "    return neighbors\n",
    "\n",
    "trainSet = [[2, 2, 2, 'a'], [4, 4, 4, 'b']]\n",
    "\n",
    "testInstance = [5, 5, 5]\n",
    "\n",
    "k = 1\n",
    "\n",
    "neighbors = getNeighbors(trainSet, testInstance, 1)\n",
    "\n",
    "print(neighbors)"
   ]
  },
  {
   "cell_type": "markdown",
   "id": "4bb06472",
   "metadata": {},
   "source": [
    "# Response"
   ]
  },
  {
   "cell_type": "code",
   "execution_count": 6,
   "id": "cd4cf395",
   "metadata": {},
   "outputs": [],
   "source": [
    "import operator\n",
    "def getResponse(neighbors):\n",
    "    classVotes = {}\n",
    "    for x in range(len(neighbors)):\n",
    "        response = neighbors[x][-1]\n",
    "        if response in classVotes:\n",
    "            classVotes[response] += 1\n",
    "        else:\n",
    "            classVotes[response] = 1\n",
    "    sortedVotes = sorted(classVotes.items(), key=operator.itemgetter(1), reverse=True)\n",
    "    return sortedVotes[0][0]\n"
   ]
  },
  {
   "cell_type": "code",
   "execution_count": 7,
   "id": "bacbde1f",
   "metadata": {},
   "outputs": [
    {
     "name": "stdout",
     "output_type": "stream",
     "text": [
      "a\n"
     ]
    }
   ],
   "source": [
    "neighbors = [[1,1,1,'a'], [2,2,2,'a'], [3,3,3,'b']]\n",
    "\n",
    "response = getResponse(neighbors)\n",
    "\n",
    "print(response)"
   ]
  },
  {
   "cell_type": "markdown",
   "id": "802c7e79",
   "metadata": {},
   "source": [
    "# Accuracy"
   ]
  },
  {
   "cell_type": "code",
   "execution_count": 8,
   "id": "7125166b",
   "metadata": {},
   "outputs": [],
   "source": [
    "def getAccuracy(testSet, predictions):\n",
    "    correct = 0\n",
    "    for x in range(len(testSet)):\n",
    "        if testSet[x][-1] == predictions[x]:\n",
    "            correct += 1\n",
    "    return (correct/float(len(testSet))) * 100.0"
   ]
  },
  {
   "cell_type": "code",
   "execution_count": 9,
   "id": "7d1b3827",
   "metadata": {},
   "outputs": [
    {
     "name": "stdout",
     "output_type": "stream",
     "text": [
      "66.66666666666666\n"
     ]
    }
   ],
   "source": [
    "testSet = [[1,1,1,'a'], [2,2,2,'a'], [3,3,3,'b']]\n",
    "\n",
    "predictions = ['a', 'a', 'a']\n",
    "\n",
    "accuracy = getAccuracy(testSet, predictions)\n",
    "\n",
    "print(accuracy)"
   ]
  },
  {
   "cell_type": "markdown",
   "id": "e7746761",
   "metadata": {},
   "source": [
    "# Main"
   ]
  },
  {
   "cell_type": "code",
   "execution_count": 10,
   "id": "ea1c821c",
   "metadata": {},
   "outputs": [
    {
     "name": "stdout",
     "output_type": "stream",
     "text": [
      "train set: 6\n",
      "test set: 49\n",
      "Accuracy:  30.612244897959183\n"
     ]
    }
   ],
   "source": [
    "def main():\n",
    "    trainingSet=[]\n",
    "    testSet=[]\n",
    "    split = 0.66\n",
    "    loadDataset('iris.data.txt', split, trainingSet, testSet)\n",
    "    print ('train set: ' + repr(len(trainingSet)))\n",
    "    print ('test set: ' + repr(len(testSet)))    \n",
    "    predictions=[]\n",
    "    k = 1\n",
    "    for x in range(len(testSet)):\n",
    "        neighbors = getNeighbors(trainingSet, testSet[x],k)\n",
    "        result = getResponse(neighbors)\n",
    "        predictions.append(result)\n",
    "    accuracy = getAccuracy(testSet, predictions)\n",
    "    print('Accuracy: ', accuracy)\n",
    "main()"
   ]
  },
  {
   "cell_type": "markdown",
   "id": "6276a3af",
   "metadata": {},
   "source": [
    "# Another distance metric"
   ]
  },
  {
   "cell_type": "code",
   "execution_count": 11,
   "id": "2fdde2b0",
   "metadata": {},
   "outputs": [],
   "source": [
    "from scipy.spatial import distance\n",
    "import math"
   ]
  },
  {
   "cell_type": "code",
   "execution_count": 12,
   "id": "4e7d6632",
   "metadata": {},
   "outputs": [],
   "source": [
    "def manhattan(instance1, instance2, length)->int:\n",
    "    distance = 0\n",
    "    for x in range(length):\n",
    "        distance + pow((instance1[x] - instance2[x]), 2)\n",
    "    return math.sqrt(distance)"
   ]
  },
  {
   "cell_type": "code",
   "execution_count": 13,
   "id": "8023c14d",
   "metadata": {},
   "outputs": [
    {
     "name": "stdout",
     "output_type": "stream",
     "text": [
      "Distance: 0.0\n"
     ]
    }
   ],
   "source": [
    "data1 = [2, 2, 2, 'a']\n",
    "\n",
    "data2 = [4, 4, 4, 'b']\n",
    "\n",
    "distance = manhattan(data1, data2, 2)\n",
    "\n",
    "print('Distance: ' + repr(distance))"
   ]
  },
  {
   "cell_type": "code",
   "execution_count": null,
   "id": "82a94884",
   "metadata": {},
   "outputs": [],
   "source": []
  }
 ],
 "metadata": {
  "kernelspec": {
   "display_name": "Python 3 (ipykernel)",
   "language": "python",
   "name": "python3"
  },
  "language_info": {
   "codemirror_mode": {
    "name": "ipython",
    "version": 3
   },
   "file_extension": ".py",
   "mimetype": "text/x-python",
   "name": "python",
   "nbconvert_exporter": "python",
   "pygments_lexer": "ipython3",
   "version": "3.9.12"
  }
 },
 "nbformat": 4,
 "nbformat_minor": 5
}
