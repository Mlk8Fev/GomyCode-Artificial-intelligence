{
 "cells": [
  {
   "cell_type": "code",
   "execution_count": 1,
   "id": "99badedd",
   "metadata": {},
   "outputs": [],
   "source": [
    "import pandas as pd\n",
    "import numpy as np\n",
    "import matplotlib.pyplot as plt\n",
    "import seaborn as sns\n",
    "from sklearn import preprocessing\n",
    "from scipy.stats import chi2_contingency\n",
    "import statsmodels.api\n",
    "\n",
    "\n",
    "from sklearn.model_selection import train_test_split\n",
    "from sklearn.linear_model import LogisticRegression\n",
    "from sklearn.metrics import confusion_matrix\n",
    "from sklearn.neighbors import KNeighborsClassifier\n",
    "from sklearn.metrics import accuracy_score\n",
    "from sklearn.tree import DecisionTreeClassifier\n",
    "from sklearn import tree   \n",
    "from sklearn.ensemble import RandomForestClassifier \n",
    "from sklearn import metrics \n",
    "import warnings \n",
    "warnings.filterwarnings(\"ignore\")"
   ]
  },
  {
   "cell_type": "markdown",
   "id": "c0d4c470",
   "metadata": {},
   "source": [
    "# 1. Understand the problem"
   ]
  },
  {
   "cell_type": "markdown",
   "id": "766b98cc",
   "metadata": {},
   "source": [
    "Le problème que notre projet va régler est un problème d'admission au master à l'Université Polytechnique Houphouët-Boigny de yamaskois. apres l'ouverture de la filière Data Science et intelligence artificielle, le corps enseignant se rend compte que plusieurs étudiants souhaitent postuler à ce master. \n",
    "Étant débordé par les demandes, elle decide de faire confiance à un étudiant en IA de GOMYCODE pour développer un modele de détection de personnes admissibles à ce master juste avec les résultats des tests et aptitudes requises pour ce master. ainsi la finalisation de ce projet permettra de minimiser le temps d'étude des dossiers et aussi de permettre de faire des entretiens ciblés et éviter aux candidats de perdre assez de temps. en plus elle permettra de cibler les meilleurs element afin de faire de ce programme un programme d'excellence en Cote d'ivoire."
   ]
  },
  {
   "cell_type": "markdown",
   "id": "a18fdbc4",
   "metadata": {},
   "source": [
    "# 2. Choose an appropriate data"
   ]
  },
  {
   "cell_type": "markdown",
   "id": "654cfa78",
   "metadata": {},
   "source": [
    "Nous allons choisir un jeu de données relatifs au informations basique que l'on demande a un licencié afin d'etre admis en Master."
   ]
  },
  {
   "cell_type": "markdown",
   "id": "e1138396",
   "metadata": {},
   "source": [
    "COMPREHENSION DE LA FUTURE DATASET CHOISI :\n",
    "\n",
    "GRE Scores (290 to 340) : Score du test de logique, mathematique redaction et pensée critique\n",
    "\n",
    "TOEFL Scores (92 to 120) : Le Test of English as a Foreign Language (TOEFL) est un test d'anglais très populaire auprès des universités du monde entier. Il est noté sur la base de trois sections : Lecture, Écoute, Expression orale et Écriture, chacune d'entre elles étant notée sur 30, ce qui donne un score maximum de 120 et un minimum de 0.\n",
    "\n",
    "University Rating (1 to 5) : Le classement de l'université où l'étudiant a obtenu son diplôme de premier cycle.\n",
    "\n",
    "Statement of Purpose (1 to 5) : \n",
    "La déclaration d'intention (SOP) est une lettre écrite par l'étudiant lui-même pour exposer son objectif et sa motivation à obtenir un diplôme d'études supérieures, ainsi que ses objectifs pendant et après ses études. De nombreuses universités trouvent cette lettre importante car elle décrit mieux l'étudiant d'un point de vue personnel.\n",
    "\n",
    "Letter of Recommendation Strength (1 to 5) : La lettre de recommandation (LOR) est une lettre écrite par une personne qui connaît l'étudiant et qui recommande à l'université d'accepter son admission. Cette personne peut être un professeur du premier cycle universitaire ou un professionnel avec lequel l'étudiant a travaillé.\n",
    "\n",
    "Undergraduate CGPA (6.8 to 9.92) : La moyenne cumulative des points (CGPA) est une mesure des notes d'un étudiant, c'est-à-dire de sa performance dans son diplôme de premier cycle.\n",
    "\n",
    "Research Experience (0 or 1) L'experience que L'etudiant a en terme de recherches et de motivation au travail \n",
    "\n",
    "Chance of Admit : La target de notre Dataset c'est a dire les chances que notre Etudiants sera admis au programme ou non.\n",
    "\n",
    "Les chiffres entre parentheses sont les Notes attribué a ces different rubriques de la plus petite a la plus grosse note "
   ]
  },
  {
   "cell_type": "markdown",
   "id": "d6a8ecd0",
   "metadata": {},
   "source": [
    "   "
   ]
  },
  {
   "cell_type": "markdown",
   "id": "dd30f785",
   "metadata": {},
   "source": [
    "A) Extraction de la Dataset"
   ]
  },
  {
   "cell_type": "code",
   "execution_count": 62,
   "id": "9a3a0e56",
   "metadata": {},
   "outputs": [
    {
     "data": {
      "text/plain": [
       "(400, 9)"
      ]
     },
     "execution_count": 62,
     "metadata": {},
     "output_type": "execute_result"
    }
   ],
   "source": [
    "data = pd.read_csv(\"Admission_Predict.csv\")\n",
    "data.shape"
   ]
  },
  {
   "cell_type": "code",
   "execution_count": 3,
   "id": "791dc6c3",
   "metadata": {},
   "outputs": [
    {
     "data": {
      "text/html": [
       "<div>\n",
       "<style scoped>\n",
       "    .dataframe tbody tr th:only-of-type {\n",
       "        vertical-align: middle;\n",
       "    }\n",
       "\n",
       "    .dataframe tbody tr th {\n",
       "        vertical-align: top;\n",
       "    }\n",
       "\n",
       "    .dataframe thead th {\n",
       "        text-align: right;\n",
       "    }\n",
       "</style>\n",
       "<table border=\"1\" class=\"dataframe\">\n",
       "  <thead>\n",
       "    <tr style=\"text-align: right;\">\n",
       "      <th></th>\n",
       "      <th>Serial No.</th>\n",
       "      <th>GRE Score</th>\n",
       "      <th>TOEFL Score</th>\n",
       "      <th>University Rating</th>\n",
       "      <th>SOP</th>\n",
       "      <th>LOR</th>\n",
       "      <th>CGPA</th>\n",
       "      <th>Research</th>\n",
       "      <th>Chance of Admit</th>\n",
       "    </tr>\n",
       "  </thead>\n",
       "  <tbody>\n",
       "    <tr>\n",
       "      <th>0</th>\n",
       "      <td>1</td>\n",
       "      <td>337</td>\n",
       "      <td>118</td>\n",
       "      <td>4</td>\n",
       "      <td>4.5</td>\n",
       "      <td>4.5</td>\n",
       "      <td>9.65</td>\n",
       "      <td>1</td>\n",
       "      <td>0.92</td>\n",
       "    </tr>\n",
       "    <tr>\n",
       "      <th>1</th>\n",
       "      <td>2</td>\n",
       "      <td>324</td>\n",
       "      <td>107</td>\n",
       "      <td>4</td>\n",
       "      <td>4.0</td>\n",
       "      <td>4.5</td>\n",
       "      <td>8.87</td>\n",
       "      <td>1</td>\n",
       "      <td>0.76</td>\n",
       "    </tr>\n",
       "    <tr>\n",
       "      <th>2</th>\n",
       "      <td>3</td>\n",
       "      <td>316</td>\n",
       "      <td>104</td>\n",
       "      <td>3</td>\n",
       "      <td>3.0</td>\n",
       "      <td>3.5</td>\n",
       "      <td>8.00</td>\n",
       "      <td>1</td>\n",
       "      <td>0.72</td>\n",
       "    </tr>\n",
       "    <tr>\n",
       "      <th>3</th>\n",
       "      <td>4</td>\n",
       "      <td>322</td>\n",
       "      <td>110</td>\n",
       "      <td>3</td>\n",
       "      <td>3.5</td>\n",
       "      <td>2.5</td>\n",
       "      <td>8.67</td>\n",
       "      <td>1</td>\n",
       "      <td>0.80</td>\n",
       "    </tr>\n",
       "    <tr>\n",
       "      <th>4</th>\n",
       "      <td>5</td>\n",
       "      <td>314</td>\n",
       "      <td>103</td>\n",
       "      <td>2</td>\n",
       "      <td>2.0</td>\n",
       "      <td>3.0</td>\n",
       "      <td>8.21</td>\n",
       "      <td>0</td>\n",
       "      <td>0.65</td>\n",
       "    </tr>\n",
       "  </tbody>\n",
       "</table>\n",
       "</div>"
      ],
      "text/plain": [
       "   Serial No.  GRE Score  TOEFL Score  University Rating  SOP  LOR   CGPA  \\\n",
       "0           1        337          118                  4  4.5   4.5  9.65   \n",
       "1           2        324          107                  4  4.0   4.5  8.87   \n",
       "2           3        316          104                  3  3.0   3.5  8.00   \n",
       "3           4        322          110                  3  3.5   2.5  8.67   \n",
       "4           5        314          103                  2  2.0   3.0  8.21   \n",
       "\n",
       "   Research  Chance of Admit   \n",
       "0         1              0.92  \n",
       "1         1              0.76  \n",
       "2         1              0.72  \n",
       "3         1              0.80  \n",
       "4         0              0.65  "
      ]
     },
     "execution_count": 3,
     "metadata": {},
     "output_type": "execute_result"
    }
   ],
   "source": [
    "data.head()"
   ]
  },
  {
   "cell_type": "code",
   "execution_count": 5,
   "id": "5e3ae32f",
   "metadata": {},
   "outputs": [
    {
     "data": {
      "text/plain": [
       "array(['Serial No.', 'GRE Score', 'TOEFL Score', 'University Rating',\n",
       "       'SOP', 'LOR ', 'CGPA', 'Research', 'Chance of Admit '],\n",
       "      dtype=object)"
      ]
     },
     "execution_count": 5,
     "metadata": {},
     "output_type": "execute_result"
    }
   ],
   "source": [
    "data.columns.values"
   ]
  },
  {
   "cell_type": "markdown",
   "id": "cfe59e04",
   "metadata": {},
   "source": [
    "Nous allons ensuite pretraiter les données que nous avons en tenant compte de ce que nous avons appris en classe "
   ]
  },
  {
   "cell_type": "markdown",
   "id": "7c05314a",
   "metadata": {},
   "source": [
    "# 3. Prepare the data ( Preprocessing Phase )"
   ]
  },
  {
   "cell_type": "code",
   "execution_count": 6,
   "id": "e4496cad",
   "metadata": {},
   "outputs": [
    {
     "data": {
      "text/plain": [
       "Serial No.           0\n",
       "GRE Score            0\n",
       "TOEFL Score          0\n",
       "University Rating    0\n",
       "SOP                  0\n",
       "LOR                  0\n",
       "CGPA                 0\n",
       "Research             0\n",
       "Chance of Admit      0\n",
       "dtype: int64"
      ]
     },
     "execution_count": 6,
     "metadata": {},
     "output_type": "execute_result"
    }
   ],
   "source": [
    "data.isnull().sum()"
   ]
  },
  {
   "cell_type": "code",
   "execution_count": 131,
   "id": "829c2ad7",
   "metadata": {},
   "outputs": [
    {
     "data": {
      "text/plain": [
       "0"
      ]
     },
     "execution_count": 131,
     "metadata": {},
     "output_type": "execute_result"
    }
   ],
   "source": [
    "data.duplicated().sum()"
   ]
  },
  {
   "cell_type": "code",
   "execution_count": 8,
   "id": "4cf0bb67",
   "metadata": {},
   "outputs": [
    {
     "data": {
      "text/html": [
       "<div>\n",
       "<style scoped>\n",
       "    .dataframe tbody tr th:only-of-type {\n",
       "        vertical-align: middle;\n",
       "    }\n",
       "\n",
       "    .dataframe tbody tr th {\n",
       "        vertical-align: top;\n",
       "    }\n",
       "\n",
       "    .dataframe thead th {\n",
       "        text-align: right;\n",
       "    }\n",
       "</style>\n",
       "<table border=\"1\" class=\"dataframe\">\n",
       "  <thead>\n",
       "    <tr style=\"text-align: right;\">\n",
       "      <th></th>\n",
       "      <th>Serial No.</th>\n",
       "      <th>GRE Score</th>\n",
       "      <th>TOEFL Score</th>\n",
       "      <th>University Rating</th>\n",
       "      <th>SOP</th>\n",
       "      <th>LOR</th>\n",
       "      <th>CGPA</th>\n",
       "      <th>Research</th>\n",
       "      <th>Chance of Admit</th>\n",
       "    </tr>\n",
       "  </thead>\n",
       "  <tbody>\n",
       "    <tr>\n",
       "      <th>count</th>\n",
       "      <td>400.000000</td>\n",
       "      <td>400.000000</td>\n",
       "      <td>400.000000</td>\n",
       "      <td>400.000000</td>\n",
       "      <td>400.000000</td>\n",
       "      <td>400.000000</td>\n",
       "      <td>400.000000</td>\n",
       "      <td>400.000000</td>\n",
       "      <td>400.000000</td>\n",
       "    </tr>\n",
       "    <tr>\n",
       "      <th>mean</th>\n",
       "      <td>200.500000</td>\n",
       "      <td>316.807500</td>\n",
       "      <td>107.410000</td>\n",
       "      <td>3.087500</td>\n",
       "      <td>3.400000</td>\n",
       "      <td>3.452500</td>\n",
       "      <td>8.598925</td>\n",
       "      <td>0.547500</td>\n",
       "      <td>0.724350</td>\n",
       "    </tr>\n",
       "    <tr>\n",
       "      <th>std</th>\n",
       "      <td>115.614301</td>\n",
       "      <td>11.473646</td>\n",
       "      <td>6.069514</td>\n",
       "      <td>1.143728</td>\n",
       "      <td>1.006869</td>\n",
       "      <td>0.898478</td>\n",
       "      <td>0.596317</td>\n",
       "      <td>0.498362</td>\n",
       "      <td>0.142609</td>\n",
       "    </tr>\n",
       "    <tr>\n",
       "      <th>min</th>\n",
       "      <td>1.000000</td>\n",
       "      <td>290.000000</td>\n",
       "      <td>92.000000</td>\n",
       "      <td>1.000000</td>\n",
       "      <td>1.000000</td>\n",
       "      <td>1.000000</td>\n",
       "      <td>6.800000</td>\n",
       "      <td>0.000000</td>\n",
       "      <td>0.340000</td>\n",
       "    </tr>\n",
       "    <tr>\n",
       "      <th>25%</th>\n",
       "      <td>100.750000</td>\n",
       "      <td>308.000000</td>\n",
       "      <td>103.000000</td>\n",
       "      <td>2.000000</td>\n",
       "      <td>2.500000</td>\n",
       "      <td>3.000000</td>\n",
       "      <td>8.170000</td>\n",
       "      <td>0.000000</td>\n",
       "      <td>0.640000</td>\n",
       "    </tr>\n",
       "    <tr>\n",
       "      <th>50%</th>\n",
       "      <td>200.500000</td>\n",
       "      <td>317.000000</td>\n",
       "      <td>107.000000</td>\n",
       "      <td>3.000000</td>\n",
       "      <td>3.500000</td>\n",
       "      <td>3.500000</td>\n",
       "      <td>8.610000</td>\n",
       "      <td>1.000000</td>\n",
       "      <td>0.730000</td>\n",
       "    </tr>\n",
       "    <tr>\n",
       "      <th>75%</th>\n",
       "      <td>300.250000</td>\n",
       "      <td>325.000000</td>\n",
       "      <td>112.000000</td>\n",
       "      <td>4.000000</td>\n",
       "      <td>4.000000</td>\n",
       "      <td>4.000000</td>\n",
       "      <td>9.062500</td>\n",
       "      <td>1.000000</td>\n",
       "      <td>0.830000</td>\n",
       "    </tr>\n",
       "    <tr>\n",
       "      <th>max</th>\n",
       "      <td>400.000000</td>\n",
       "      <td>340.000000</td>\n",
       "      <td>120.000000</td>\n",
       "      <td>5.000000</td>\n",
       "      <td>5.000000</td>\n",
       "      <td>5.000000</td>\n",
       "      <td>9.920000</td>\n",
       "      <td>1.000000</td>\n",
       "      <td>0.970000</td>\n",
       "    </tr>\n",
       "  </tbody>\n",
       "</table>\n",
       "</div>"
      ],
      "text/plain": [
       "       Serial No.   GRE Score  TOEFL Score  University Rating         SOP  \\\n",
       "count  400.000000  400.000000   400.000000         400.000000  400.000000   \n",
       "mean   200.500000  316.807500   107.410000           3.087500    3.400000   \n",
       "std    115.614301   11.473646     6.069514           1.143728    1.006869   \n",
       "min      1.000000  290.000000    92.000000           1.000000    1.000000   \n",
       "25%    100.750000  308.000000   103.000000           2.000000    2.500000   \n",
       "50%    200.500000  317.000000   107.000000           3.000000    3.500000   \n",
       "75%    300.250000  325.000000   112.000000           4.000000    4.000000   \n",
       "max    400.000000  340.000000   120.000000           5.000000    5.000000   \n",
       "\n",
       "             LOR         CGPA    Research  Chance of Admit   \n",
       "count  400.000000  400.000000  400.000000        400.000000  \n",
       "mean     3.452500    8.598925    0.547500          0.724350  \n",
       "std      0.898478    0.596317    0.498362          0.142609  \n",
       "min      1.000000    6.800000    0.000000          0.340000  \n",
       "25%      3.000000    8.170000    0.000000          0.640000  \n",
       "50%      3.500000    8.610000    1.000000          0.730000  \n",
       "75%      4.000000    9.062500    1.000000          0.830000  \n",
       "max      5.000000    9.920000    1.000000          0.970000  "
      ]
     },
     "execution_count": 8,
     "metadata": {},
     "output_type": "execute_result"
    }
   ],
   "source": [
    "data.describe()"
   ]
  },
  {
   "cell_type": "code",
   "execution_count": 10,
   "id": "bb85beaa",
   "metadata": {},
   "outputs": [
    {
     "data": {
      "text/plain": [
       "Serial No.             int64\n",
       "GRE Score              int64\n",
       "TOEFL Score            int64\n",
       "University Rating      int64\n",
       "SOP                  float64\n",
       "LOR                  float64\n",
       "CGPA                 float64\n",
       "Research               int64\n",
       "Chance of Admit      float64\n",
       "dtype: object"
      ]
     },
     "execution_count": 10,
     "metadata": {},
     "output_type": "execute_result"
    }
   ],
   "source": [
    "data.dtypes"
   ]
  },
  {
   "cell_type": "markdown",
   "id": "78f18f94",
   "metadata": {},
   "source": [
    "J'ai decidé alors de supprimer la table SerialNo car elle ne nous aidera pas dans notre tache."
   ]
  },
  {
   "cell_type": "code",
   "execution_count": 86,
   "id": "6298144d",
   "metadata": {},
   "outputs": [],
   "source": [
    "data.drop('Serial No.', axis=1, inplace=True)"
   ]
  },
  {
   "cell_type": "markdown",
   "id": "4fe53122",
   "metadata": {},
   "source": [
    "Nous remarquons alors que nos données sont propre, traité et nettoyé comme il se doit car il n'y a aucune donnée manquante et les tables obsoletes ont ete retirés"
   ]
  },
  {
   "cell_type": "markdown",
   "id": "e1ea7d56",
   "metadata": {},
   "source": [
    "# 4. Do some visualization"
   ]
  },
  {
   "cell_type": "markdown",
   "id": "fb5f4082",
   "metadata": {},
   "source": [
    "Les cartes thermiques de corrélation sont un type de graphique qui permet de visualiser la force des relations entre les variables numériques. Les graphiques de corrélation sont utilisés pour comprendre quelles variables sont liées les unes aux autres et la force de cette relation.\n"
   ]
  },
  {
   "cell_type": "code",
   "execution_count": 15,
   "id": "8459ecae",
   "metadata": {},
   "outputs": [
    {
     "data": {
      "text/plain": [
       "Text(0.5, 1.0, 'Correlation Factors Heat Map')"
      ]
     },
     "execution_count": 15,
     "metadata": {},
     "output_type": "execute_result"
    },
    {
     "data": {
      "image/png": "[encoded data removed]",
      "text/plain": [
       "<Figure size 432x288 with 2 Axes>"
      ]
     },
     "metadata": {
      "needs_background": "light"
     },
     "output_type": "display_data"
    }
   ],
   "source": [
    "sns.heatmap(data.corr(), annot=True).set_title('Correlation Factors Heat Map', color='black', size='20')"
   ]
  },
  {
   "cell_type": "markdown",
   "id": "cfcbfed1",
   "metadata": {},
   "source": [
    "Ici nous pouvons remarquer et identifier les elements qui sont en fortes correlations comme par exemple le GRE SCORE Et le TOEFL qui ont une grande force relationnelle."
   ]
  },
  {
   "cell_type": "code",
   "execution_count": 16,
   "id": "1c8b660f",
   "metadata": {},
   "outputs": [
    {
     "data": {
      "text/html": [
       "<div>\n",
       "<style scoped>\n",
       "    .dataframe tbody tr th:only-of-type {\n",
       "        vertical-align: middle;\n",
       "    }\n",
       "\n",
       "    .dataframe tbody tr th {\n",
       "        vertical-align: top;\n",
       "    }\n",
       "\n",
       "    .dataframe thead th {\n",
       "        text-align: right;\n",
       "    }\n",
       "</style>\n",
       "<table border=\"1\" class=\"dataframe\">\n",
       "  <thead>\n",
       "    <tr style=\"text-align: right;\">\n",
       "      <th></th>\n",
       "      <th>GRE Score</th>\n",
       "    </tr>\n",
       "  </thead>\n",
       "  <tbody>\n",
       "    <tr>\n",
       "      <th>count</th>\n",
       "      <td>400.000000</td>\n",
       "    </tr>\n",
       "    <tr>\n",
       "      <th>mean</th>\n",
       "      <td>316.807500</td>\n",
       "    </tr>\n",
       "    <tr>\n",
       "      <th>std</th>\n",
       "      <td>11.473646</td>\n",
       "    </tr>\n",
       "    <tr>\n",
       "      <th>min</th>\n",
       "      <td>290.000000</td>\n",
       "    </tr>\n",
       "    <tr>\n",
       "      <th>25%</th>\n",
       "      <td>308.000000</td>\n",
       "    </tr>\n",
       "    <tr>\n",
       "      <th>50%</th>\n",
       "      <td>317.000000</td>\n",
       "    </tr>\n",
       "    <tr>\n",
       "      <th>75%</th>\n",
       "      <td>325.000000</td>\n",
       "    </tr>\n",
       "    <tr>\n",
       "      <th>max</th>\n",
       "      <td>340.000000</td>\n",
       "    </tr>\n",
       "  </tbody>\n",
       "</table>\n",
       "</div>"
      ],
      "text/plain": [
       "        GRE Score\n",
       "count  400.000000\n",
       "mean   316.807500\n",
       "std     11.473646\n",
       "min    290.000000\n",
       "25%    308.000000\n",
       "50%    317.000000\n",
       "75%    325.000000\n",
       "max    340.000000"
      ]
     },
     "execution_count": 16,
     "metadata": {},
     "output_type": "execute_result"
    }
   ],
   "source": [
    "GRE = pd.DataFrame(data['GRE Score'])\n",
    "GRE.describe()"
   ]
  },
  {
   "cell_type": "code",
   "execution_count": 18,
   "id": "73145064",
   "metadata": {},
   "outputs": [
    {
     "data": {
      "image/png": "[encoded data removed]",
      "text/plain": [
       "<Figure size 432x288 with 1 Axes>"
      ]
     },
     "metadata": {
      "needs_background": "light"
     },
     "output_type": "display_data"
    }
   ],
   "source": [
    "sns.distplot(GRE).set_title('Repartition des Scores GRE', size='20')\n",
    "plt.show()"
   ]
  },
  {
   "cell_type": "markdown",
   "id": "9585d5db",
   "metadata": {},
   "source": [
    "Par ce graphe nous voyons que les scores GRE sont reparties equitablement entre les differentes moyenne de point. a noter aussi que les scores entre 320 et 335 apparraissent beaucoup dans les relevés de nos etudiants"
   ]
  },
  {
   "cell_type": "code",
   "execution_count": 24,
   "id": "cc6a0668",
   "metadata": {},
   "outputs": [
    {
     "data": {
      "text/html": [
       "<div>\n",
       "<style scoped>\n",
       "    .dataframe tbody tr th:only-of-type {\n",
       "        vertical-align: middle;\n",
       "    }\n",
       "\n",
       "    .dataframe tbody tr th {\n",
       "        vertical-align: top;\n",
       "    }\n",
       "\n",
       "    .dataframe thead th {\n",
       "        text-align: right;\n",
       "    }\n",
       "</style>\n",
       "<table border=\"1\" class=\"dataframe\">\n",
       "  <thead>\n",
       "    <tr style=\"text-align: right;\">\n",
       "      <th></th>\n",
       "      <th>TOEFL Score</th>\n",
       "    </tr>\n",
       "  </thead>\n",
       "  <tbody>\n",
       "    <tr>\n",
       "      <th>count</th>\n",
       "      <td>400.000000</td>\n",
       "    </tr>\n",
       "    <tr>\n",
       "      <th>mean</th>\n",
       "      <td>107.410000</td>\n",
       "    </tr>\n",
       "    <tr>\n",
       "      <th>std</th>\n",
       "      <td>6.069514</td>\n",
       "    </tr>\n",
       "    <tr>\n",
       "      <th>min</th>\n",
       "      <td>92.000000</td>\n",
       "    </tr>\n",
       "    <tr>\n",
       "      <th>25%</th>\n",
       "      <td>103.000000</td>\n",
       "    </tr>\n",
       "    <tr>\n",
       "      <th>50%</th>\n",
       "      <td>107.000000</td>\n",
       "    </tr>\n",
       "    <tr>\n",
       "      <th>75%</th>\n",
       "      <td>112.000000</td>\n",
       "    </tr>\n",
       "    <tr>\n",
       "      <th>max</th>\n",
       "      <td>120.000000</td>\n",
       "    </tr>\n",
       "  </tbody>\n",
       "</table>\n",
       "</div>"
      ],
      "text/plain": [
       "       TOEFL Score\n",
       "count   400.000000\n",
       "mean    107.410000\n",
       "std       6.069514\n",
       "min      92.000000\n",
       "25%     103.000000\n",
       "50%     107.000000\n",
       "75%     112.000000\n",
       "max     120.000000"
      ]
     },
     "execution_count": 24,
     "metadata": {},
     "output_type": "execute_result"
    }
   ],
   "source": [
    "TOEFL = pd.DataFrame(data['TOEFL Score'])\n",
    "TOEFL.describe()"
   ]
  },
  {
   "cell_type": "code",
   "execution_count": 25,
   "id": "bdd1c244",
   "metadata": {},
   "outputs": [
    {
     "data": {
      "image/png": "[encoded data removed]",
      "text/plain": [
       "<Figure size 432x288 with 1 Axes>"
      ]
     },
     "metadata": {
      "needs_background": "light"
     },
     "output_type": "display_data"
    }
   ],
   "source": [
    "sns.distplot(TOEFL).set_title('Repartition des scores TOEFL', size='20')\n",
    "plt.show()"
   ]
  },
  {
   "cell_type": "markdown",
   "id": "d364605d",
   "metadata": {},
   "source": [
    "Par ce graphe nous voyons que les scores TOEFL sont reparties equitablement entre les differentes moyenne de point. a noter aussi que les scores entre 105 et 110 apparraissent beaucoup dans les relevés de nos etudiants"
   ]
  },
  {
   "cell_type": "code",
   "execution_count": 26,
   "id": "ed069d4d",
   "metadata": {},
   "outputs": [
    {
     "data": {
      "text/html": [
       "<div>\n",
       "<style scoped>\n",
       "    .dataframe tbody tr th:only-of-type {\n",
       "        vertical-align: middle;\n",
       "    }\n",
       "\n",
       "    .dataframe tbody tr th {\n",
       "        vertical-align: top;\n",
       "    }\n",
       "\n",
       "    .dataframe thead th {\n",
       "        text-align: right;\n",
       "    }\n",
       "</style>\n",
       "<table border=\"1\" class=\"dataframe\">\n",
       "  <thead>\n",
       "    <tr style=\"text-align: right;\">\n",
       "      <th></th>\n",
       "      <th>CGPA</th>\n",
       "    </tr>\n",
       "  </thead>\n",
       "  <tbody>\n",
       "    <tr>\n",
       "      <th>count</th>\n",
       "      <td>400.000000</td>\n",
       "    </tr>\n",
       "    <tr>\n",
       "      <th>mean</th>\n",
       "      <td>8.598925</td>\n",
       "    </tr>\n",
       "    <tr>\n",
       "      <th>std</th>\n",
       "      <td>0.596317</td>\n",
       "    </tr>\n",
       "    <tr>\n",
       "      <th>min</th>\n",
       "      <td>6.800000</td>\n",
       "    </tr>\n",
       "    <tr>\n",
       "      <th>25%</th>\n",
       "      <td>8.170000</td>\n",
       "    </tr>\n",
       "    <tr>\n",
       "      <th>50%</th>\n",
       "      <td>8.610000</td>\n",
       "    </tr>\n",
       "    <tr>\n",
       "      <th>75%</th>\n",
       "      <td>9.062500</td>\n",
       "    </tr>\n",
       "    <tr>\n",
       "      <th>max</th>\n",
       "      <td>9.920000</td>\n",
       "    </tr>\n",
       "  </tbody>\n",
       "</table>\n",
       "</div>"
      ],
      "text/plain": [
       "             CGPA\n",
       "count  400.000000\n",
       "mean     8.598925\n",
       "std      0.596317\n",
       "min      6.800000\n",
       "25%      8.170000\n",
       "50%      8.610000\n",
       "75%      9.062500\n",
       "max      9.920000"
      ]
     },
     "execution_count": 26,
     "metadata": {},
     "output_type": "execute_result"
    }
   ],
   "source": [
    "CGPA = pd.DataFrame(data['CGPA'], columns=['CGPA'])\n",
    "CGPA.describe()"
   ]
  },
  {
   "cell_type": "code",
   "execution_count": 28,
   "id": "17902fad",
   "metadata": {},
   "outputs": [
    {
     "data": {
      "image/png": "[encoded data removed]",
      "text/plain": [
       "<Figure size 432x288 with 1 Axes>"
      ]
     },
     "metadata": {
      "needs_background": "light"
     },
     "output_type": "display_data"
    }
   ],
   "source": [
    "sns.distplot(CGPA).set_title('Graphe de Repartitions des Scores CGPA', size='20')\n",
    "plt.show()"
   ]
  },
  {
   "cell_type": "markdown",
   "id": "4eceb3d8",
   "metadata": {},
   "source": [
    "Nous allons ensuite visualiser la table recherche en utilisant un Pie chart et voir ensuite comment les données sont reparties entre les etudiants qui sont deja etiquetés comme studieux et ceux qui ne le sont pas "
   ]
  },
  {
   "cell_type": "code",
   "execution_count": 29,
   "id": "7f69d0f4",
   "metadata": {},
   "outputs": [
    {
     "data": {
      "image/png": "[encoded data removed]",
      "text/plain": [
       "<Figure size 432x288 with 1 Axes>"
      ]
     },
     "metadata": {},
     "output_type": "display_data"
    }
   ],
   "source": [
    "RES_Count = data.groupby(['Research']).count()\n",
    "RES_Count = RES_Count['GRE Score']\n",
    "RES_Count = pd.DataFrame(RES_Count)\n",
    "RES_Count.rename({'GRE Score': 'Count'}, axis=1, inplace=True)\n",
    "RES_Count.rename({0: 'No Research', 1:'Research'}, axis=0, inplace=True)\n",
    "plt.pie(x=RES_Count['Count'], labels=RES_Count.index, autopct='%1.1f%%')\n",
    "plt.title('Research', pad=5, size=30)\n",
    "plt.show()"
   ]
  },
  {
   "cell_type": "markdown",
   "id": "193692f9",
   "metadata": {},
   "source": [
    "Nous remarquons que 54% des etudiants postulant au Master ont des tendances studieuse"
   ]
  },
  {
   "cell_type": "code",
   "execution_count": 32,
   "id": "bd3f8a70",
   "metadata": {},
   "outputs": [
    {
     "data": {
      "text/html": [
       "<div>\n",
       "<style scoped>\n",
       "    .dataframe tbody tr th:only-of-type {\n",
       "        vertical-align: middle;\n",
       "    }\n",
       "\n",
       "    .dataframe tbody tr th {\n",
       "        vertical-align: top;\n",
       "    }\n",
       "\n",
       "    .dataframe thead th {\n",
       "        text-align: right;\n",
       "    }\n",
       "</style>\n",
       "<table border=\"1\" class=\"dataframe\">\n",
       "  <thead>\n",
       "    <tr style=\"text-align: right;\">\n",
       "      <th></th>\n",
       "      <th>Count</th>\n",
       "    </tr>\n",
       "    <tr>\n",
       "      <th>University Rating</th>\n",
       "      <th></th>\n",
       "    </tr>\n",
       "  </thead>\n",
       "  <tbody>\n",
       "    <tr>\n",
       "      <th>1</th>\n",
       "      <td>26</td>\n",
       "    </tr>\n",
       "    <tr>\n",
       "      <th>2</th>\n",
       "      <td>107</td>\n",
       "    </tr>\n",
       "    <tr>\n",
       "      <th>3</th>\n",
       "      <td>133</td>\n",
       "    </tr>\n",
       "    <tr>\n",
       "      <th>4</th>\n",
       "      <td>74</td>\n",
       "    </tr>\n",
       "    <tr>\n",
       "      <th>5</th>\n",
       "      <td>60</td>\n",
       "    </tr>\n",
       "  </tbody>\n",
       "</table>\n",
       "</div>"
      ],
      "text/plain": [
       "                   Count\n",
       "University Rating       \n",
       "1                     26\n",
       "2                    107\n",
       "3                    133\n",
       "4                     74\n",
       "5                     60"
      ]
     },
     "execution_count": 32,
     "metadata": {},
     "output_type": "execute_result"
    }
   ],
   "source": [
    "University_Rating = data.groupby(['University Rating']).count()\n",
    "University_Rating = University_Rating['GRE Score']\n",
    "University_Rating = pd.DataFrame(University_Rating)\n",
    "University_Rating.rename({'GRE Score': 'Count'}, inplace=True, axis=1)\n",
    "University_Rating"
   ]
  },
  {
   "cell_type": "code",
   "execution_count": 66,
   "id": "7bba9ede",
   "metadata": {},
   "outputs": [
    {
     "data": {
      "image/png": "[encoded data removed]",
      "text/plain": [
       "<Figure size 432x288 with 1 Axes>"
      ]
     },
     "metadata": {
      "needs_background": "light"
     },
     "output_type": "display_data"
    }
   ],
   "source": [
    "sns.barplot(University_Rating.index, University_Rating['Count']).set_title('University Rating', size='20')\n",
    "plt.show()"
   ]
  },
  {
   "cell_type": "markdown",
   "id": "5718ab6f",
   "metadata": {},
   "source": [
    "Bar Chart montrant le nombre de postulant et leurs differentes categories de prestige d'université. Nous remarquons que c'est le Rang No 3 qui domine assez le classement."
   ]
  },
  {
   "cell_type": "code",
   "execution_count": 67,
   "id": "1967d83c",
   "metadata": {},
   "outputs": [
    {
     "data": {
      "text/html": [
       "<div>\n",
       "<style scoped>\n",
       "    .dataframe tbody tr th:only-of-type {\n",
       "        vertical-align: middle;\n",
       "    }\n",
       "\n",
       "    .dataframe tbody tr th {\n",
       "        vertical-align: top;\n",
       "    }\n",
       "\n",
       "    .dataframe thead th {\n",
       "        text-align: right;\n",
       "    }\n",
       "</style>\n",
       "<table border=\"1\" class=\"dataframe\">\n",
       "  <thead>\n",
       "    <tr style=\"text-align: right;\">\n",
       "      <th></th>\n",
       "      <th>Count</th>\n",
       "    </tr>\n",
       "    <tr>\n",
       "      <th>SOP</th>\n",
       "      <th></th>\n",
       "    </tr>\n",
       "  </thead>\n",
       "  <tbody>\n",
       "    <tr>\n",
       "      <th>1.0</th>\n",
       "      <td>6</td>\n",
       "    </tr>\n",
       "    <tr>\n",
       "      <th>1.5</th>\n",
       "      <td>20</td>\n",
       "    </tr>\n",
       "    <tr>\n",
       "      <th>2.0</th>\n",
       "      <td>33</td>\n",
       "    </tr>\n",
       "    <tr>\n",
       "      <th>2.5</th>\n",
       "      <td>47</td>\n",
       "    </tr>\n",
       "    <tr>\n",
       "      <th>3.0</th>\n",
       "      <td>64</td>\n",
       "    </tr>\n",
       "    <tr>\n",
       "      <th>3.5</th>\n",
       "      <td>70</td>\n",
       "    </tr>\n",
       "    <tr>\n",
       "      <th>4.0</th>\n",
       "      <td>70</td>\n",
       "    </tr>\n",
       "    <tr>\n",
       "      <th>4.5</th>\n",
       "      <td>53</td>\n",
       "    </tr>\n",
       "    <tr>\n",
       "      <th>5.0</th>\n",
       "      <td>37</td>\n",
       "    </tr>\n",
       "  </tbody>\n",
       "</table>\n",
       "</div>"
      ],
      "text/plain": [
       "     Count\n",
       "SOP       \n",
       "1.0      6\n",
       "1.5     20\n",
       "2.0     33\n",
       "2.5     47\n",
       "3.0     64\n",
       "3.5     70\n",
       "4.0     70\n",
       "4.5     53\n",
       "5.0     37"
      ]
     },
     "execution_count": 67,
     "metadata": {},
     "output_type": "execute_result"
    }
   ],
   "source": [
    "SOP = pd.DataFrame(data.groupby(['SOP']).count()['GRE Score'])\n",
    "SOP.rename({'GRE Score':'Count'}, axis=1, inplace=True)\n",
    "SOP"
   ]
  },
  {
   "cell_type": "code",
   "execution_count": 68,
   "id": "d49424b9",
   "metadata": {},
   "outputs": [
    {
     "data": {
      "image/png": "[encoded data removed]",
      "text/plain": [
       "<Figure size 432x288 with 1 Axes>"
      ]
     },
     "metadata": {
      "needs_background": "light"
     },
     "output_type": "display_data"
    }
   ],
   "source": [
    "sns.barplot(SOP.index, SOP['Count']).set_title('Statement of Purpose', size='20')\n",
    "plt.show()"
   ]
  },
  {
   "cell_type": "markdown",
   "id": "59cba215",
   "metadata": {},
   "source": [
    "Bar Chart montrant le nombre de postulant et leurs diffentes notes resultant de leurs Lettre d'intention deposé. Nous remarquons que la majorité des etudiants ont entre 3.5 et 4 a cet exercice"
   ]
  },
  {
   "cell_type": "code",
   "execution_count": 70,
   "id": "ff671a46",
   "metadata": {},
   "outputs": [],
   "source": [
    "data.columns = data.columns.to_series().apply(lambda x: x.strip())"
   ]
  },
  {
   "cell_type": "code",
   "execution_count": 72,
   "id": "a9bd8904",
   "metadata": {},
   "outputs": [
    {
     "data": {
      "text/html": [
       "<div>\n",
       "<style scoped>\n",
       "    .dataframe tbody tr th:only-of-type {\n",
       "        vertical-align: middle;\n",
       "    }\n",
       "\n",
       "    .dataframe tbody tr th {\n",
       "        vertical-align: top;\n",
       "    }\n",
       "\n",
       "    .dataframe thead th {\n",
       "        text-align: right;\n",
       "    }\n",
       "</style>\n",
       "<table border=\"1\" class=\"dataframe\">\n",
       "  <thead>\n",
       "    <tr style=\"text-align: right;\">\n",
       "      <th></th>\n",
       "      <th>Count</th>\n",
       "    </tr>\n",
       "    <tr>\n",
       "      <th>LOR</th>\n",
       "      <th></th>\n",
       "    </tr>\n",
       "  </thead>\n",
       "  <tbody>\n",
       "    <tr>\n",
       "      <th>1.0</th>\n",
       "      <td>1</td>\n",
       "    </tr>\n",
       "    <tr>\n",
       "      <th>1.5</th>\n",
       "      <td>7</td>\n",
       "    </tr>\n",
       "    <tr>\n",
       "      <th>2.0</th>\n",
       "      <td>38</td>\n",
       "    </tr>\n",
       "    <tr>\n",
       "      <th>2.5</th>\n",
       "      <td>39</td>\n",
       "    </tr>\n",
       "    <tr>\n",
       "      <th>3.0</th>\n",
       "      <td>85</td>\n",
       "    </tr>\n",
       "    <tr>\n",
       "      <th>3.5</th>\n",
       "      <td>73</td>\n",
       "    </tr>\n",
       "    <tr>\n",
       "      <th>4.0</th>\n",
       "      <td>77</td>\n",
       "    </tr>\n",
       "    <tr>\n",
       "      <th>4.5</th>\n",
       "      <td>45</td>\n",
       "    </tr>\n",
       "    <tr>\n",
       "      <th>5.0</th>\n",
       "      <td>35</td>\n",
       "    </tr>\n",
       "  </tbody>\n",
       "</table>\n",
       "</div>"
      ],
      "text/plain": [
       "     Count\n",
       "LOR       \n",
       "1.0      1\n",
       "1.5      7\n",
       "2.0     38\n",
       "2.5     39\n",
       "3.0     85\n",
       "3.5     73\n",
       "4.0     77\n",
       "4.5     45\n",
       "5.0     35"
      ]
     },
     "execution_count": 72,
     "metadata": {},
     "output_type": "execute_result"
    }
   ],
   "source": [
    "LOR = pd.DataFrame(data.groupby(['LOR']).count()['GRE Score'])\n",
    "LOR.rename({'GRE Score':'Count'}, axis=1, inplace=True)\n",
    "LOR"
   ]
  },
  {
   "cell_type": "code",
   "execution_count": 73,
   "id": "2df6ad33",
   "metadata": {},
   "outputs": [
    {
     "data": {
      "image/png": "[encoded data removed]",
      "text/plain": [
       "<Figure size 432x288 with 1 Axes>"
      ]
     },
     "metadata": {
      "needs_background": "light"
     },
     "output_type": "display_data"
    }
   ],
   "source": [
    "sns.barplot(LOR.index, LOR['Count']).set_title('Letter of Recommendation', size='20')\n",
    "plt.show()"
   ]
  },
  {
   "cell_type": "markdown",
   "id": "7aa1fa09",
   "metadata": {},
   "source": [
    "Bar Chart montrant le nombre de postulant et leurs diffentes notes resultant de leurs Lettre de recommandation deposé. Nous remarquons que la majorité des etudiants ont entre 3 et 4 a cet exercice"
   ]
  },
  {
   "cell_type": "markdown",
   "id": "060d559b",
   "metadata": {},
   "source": [
    "   "
   ]
  },
  {
   "cell_type": "markdown",
   "id": "d7e32f90",
   "metadata": {},
   "source": [
    "Apres comparaison nous remarquons que assez d'etudiants postulant ont des resultats au dessus de la moyenne et sont de tres bon eleve car ils ont de bonne notes a presque tout les test passés."
   ]
  },
  {
   "cell_type": "code",
   "execution_count": 79,
   "id": "0c7d4b66",
   "metadata": {},
   "outputs": [
    {
     "data": {
      "image/png": "[encoded data removed]",
      "text/plain": [
       "<Figure size 432x288 with 1 Axes>"
      ]
     },
     "metadata": {
      "needs_background": "light"
     },
     "output_type": "display_data"
    }
   ],
   "source": [
    "data['Chance of Admit']\n",
    "sns.distplot(data['Chance of Admit']).set_title('Probabilité pour un Etudiant de reussir au test admissif', size='20')\n",
    "plt.show()"
   ]
  },
  {
   "cell_type": "code",
   "execution_count": 81,
   "id": "852a70a9",
   "metadata": {},
   "outputs": [
    {
     "data": {
      "text/plain": [
       "count    400.000000\n",
       "mean       0.724350\n",
       "std        0.142609\n",
       "min        0.340000\n",
       "25%        0.640000\n",
       "50%        0.730000\n",
       "75%        0.830000\n",
       "max        0.970000\n",
       "Name: Chance of Admit, dtype: float64"
      ]
     },
     "execution_count": 81,
     "metadata": {},
     "output_type": "execute_result"
    }
   ],
   "source": [
    "data.describe()['Chance of Admit']"
   ]
  },
  {
   "cell_type": "markdown",
   "id": "20fe48b8",
   "metadata": {},
   "source": [
    "Nous remarquons que beaucoup d'etudiants ont une probabilité superieure a 60% et plus c'est a dire que vu les donnés que nous avons plusieurs etudiants sont competitifs et iront en Master certainement vu leurs bon resultats"
   ]
  },
  {
   "cell_type": "markdown",
   "id": "8dfdc52d",
   "metadata": {},
   "source": [
    "    "
   ]
  },
  {
   "cell_type": "markdown",
   "id": "6ddcf217",
   "metadata": {},
   "source": [
    "Ensuite pour Predire les chances d'admission d'un etudiant souhaitant postuler nous allons calculer la correllation entre les chances d'admission et les differentes features identifiés"
   ]
  },
  {
   "cell_type": "code",
   "execution_count": 87,
   "id": "5e56bced",
   "metadata": {},
   "outputs": [
    {
     "data": {
      "image/png": "[encoded data removed]",
      "text/plain": [
       "<Figure size 432x288 with 1 Axes>"
      ]
     },
     "metadata": {
      "needs_background": "light"
     },
     "output_type": "display_data"
    }
   ],
   "source": [
    "COA_corr = pd.DataFrame(data.corr()['Chance of Admit'])\n",
    "COA_corr.rename({'Chance of Admit': 'Correlation Coeffecient'}, axis=1, inplace=True)\n",
    "COA_corr.drop('Chance of Admit', inplace=True)\n",
    "COA_corr.sort_values(['Correlation Coeffecient'], ascending=False, inplace=True)\n",
    "COA_corr_x = COA_corr.index\n",
    "COA_corr_y = COA_corr['Correlation Coeffecient']\n",
    "sns.barplot(y=COA_corr_x,x=COA_corr_y).set_title('Possibilité dAdmisssion total des Coeffecients de Correlation ', size='20')\n",
    "plt.show()"
   ]
  },
  {
   "cell_type": "code",
   "execution_count": 88,
   "id": "e87ed1a1",
   "metadata": {},
   "outputs": [
    {
     "data": {
      "text/html": [
       "<div>\n",
       "<style scoped>\n",
       "    .dataframe tbody tr th:only-of-type {\n",
       "        vertical-align: middle;\n",
       "    }\n",
       "\n",
       "    .dataframe tbody tr th {\n",
       "        vertical-align: top;\n",
       "    }\n",
       "\n",
       "    .dataframe thead th {\n",
       "        text-align: right;\n",
       "    }\n",
       "</style>\n",
       "<table border=\"1\" class=\"dataframe\">\n",
       "  <thead>\n",
       "    <tr style=\"text-align: right;\">\n",
       "      <th></th>\n",
       "      <th>Correlation Coeffecient</th>\n",
       "    </tr>\n",
       "  </thead>\n",
       "  <tbody>\n",
       "    <tr>\n",
       "      <th>CGPA</th>\n",
       "      <td>0.873289</td>\n",
       "    </tr>\n",
       "    <tr>\n",
       "      <th>GRE Score</th>\n",
       "      <td>0.802610</td>\n",
       "    </tr>\n",
       "    <tr>\n",
       "      <th>TOEFL Score</th>\n",
       "      <td>0.791594</td>\n",
       "    </tr>\n",
       "    <tr>\n",
       "      <th>University Rating</th>\n",
       "      <td>0.711250</td>\n",
       "    </tr>\n",
       "    <tr>\n",
       "      <th>SOP</th>\n",
       "      <td>0.675732</td>\n",
       "    </tr>\n",
       "    <tr>\n",
       "      <th>LOR</th>\n",
       "      <td>0.669889</td>\n",
       "    </tr>\n",
       "    <tr>\n",
       "      <th>Research</th>\n",
       "      <td>0.553202</td>\n",
       "    </tr>\n",
       "  </tbody>\n",
       "</table>\n",
       "</div>"
      ],
      "text/plain": [
       "                   Correlation Coeffecient\n",
       "CGPA                              0.873289\n",
       "GRE Score                         0.802610\n",
       "TOEFL Score                       0.791594\n",
       "University Rating                 0.711250\n",
       "SOP                               0.675732\n",
       "LOR                               0.669889\n",
       "Research                          0.553202"
      ]
     },
     "execution_count": 88,
     "metadata": {},
     "output_type": "execute_result"
    }
   ],
   "source": [
    "COA_corr"
   ]
  },
  {
   "cell_type": "markdown",
   "id": "1c6a5269",
   "metadata": {},
   "source": [
    "Nous finissons par realiser que les elements qui permettent de determiner le plus les chances d'admission sont le CGPA, le GRE SCORE ET LE TOEFL suivi du classement de l'université. le SOP, LOR et research passent en derniere position;"
   ]
  },
  {
   "cell_type": "markdown",
   "id": "c8361c6b",
   "metadata": {},
   "source": [
    "# 5. Choose the right algorithm"
   ]
  },
  {
   "cell_type": "markdown",
   "id": "7ec545d4",
   "metadata": {},
   "source": [
    "Nous allons utiliser 4 modeles de Machine Learning Supervisé que nous avons appris en classe et a la fin choisir le plus precis pour le retenir comme modele de preference pour la mise en oeuvre de notre intelligence artificielle.\n",
    "    \n",
    "1-Logistic Regression\n",
    "\n",
    "2-Decision Tree \n",
    "\n",
    "3-Random Forest\n",
    "\n",
    "4-K Nearest Neighbors (KNN)"
   ]
  },
  {
   "cell_type": "markdown",
   "id": "6074a459",
   "metadata": {},
   "source": [
    "# 6. Model and Experiment "
   ]
  },
  {
   "cell_type": "code",
   "execution_count": 90,
   "id": "4136525a",
   "metadata": {},
   "outputs": [],
   "source": [
    "X = data.drop([\"Chance of Admit\"],axis=1)\n",
    "y = data[\"Chance of Admit\"].values"
   ]
  },
  {
   "cell_type": "code",
   "execution_count": 91,
   "id": "bbf0df92",
   "metadata": {},
   "outputs": [],
   "source": [
    "X_train, X_test, y_train, y_test = train_test_split(X, y, test_size = 0.20, random_state = 101)"
   ]
  },
  {
   "cell_type": "code",
   "execution_count": 94,
   "id": "74f2d40e",
   "metadata": {},
   "outputs": [],
   "source": [
    "from sklearn.preprocessing import MinMaxScaler\n",
    "scalerX = MinMaxScaler(feature_range=(0, 1))\n",
    "X_train[X_train.columns] = scalerX.fit_transform(X_train[X_train.columns])\n",
    "X_test[X_test.columns] = scalerX.transform(X_test[X_test.columns])"
   ]
  },
  {
   "cell_type": "code",
   "execution_count": 95,
   "id": "24e02aaf",
   "metadata": {},
   "outputs": [],
   "source": [
    "y_train_01 = [1 if each > 0.8 else 0 for each in y_train]\n",
    "y_test_01  = [1 if each > 0.8 else 0 for each in y_test]\n",
    "\n",
    "\n",
    "y_train_01 = np.array(y_train_01)\n",
    "y_test_01 = np.array(y_test_01)"
   ]
  },
  {
   "cell_type": "markdown",
   "id": "e1cf51dd",
   "metadata": {},
   "source": [
    "1- Logistic Regression "
   ]
  },
  {
   "cell_type": "code",
   "execution_count": 96,
   "id": "e5e64d71",
   "metadata": {},
   "outputs": [
    {
     "data": {
      "text/plain": [
       "LogisticRegression()"
      ]
     },
     "execution_count": 96,
     "metadata": {},
     "output_type": "execute_result"
    }
   ],
   "source": [
    "logr = LogisticRegression()\n",
    "logr.fit(X_train,y_train_01)"
   ]
  },
  {
   "cell_type": "code",
   "execution_count": 97,
   "id": "5f156d8b",
   "metadata": {},
   "outputs": [],
   "source": [
    "y_predlogr = logr.predict(X_test)"
   ]
  },
  {
   "cell_type": "code",
   "execution_count": 128,
   "id": "e9e5bd94",
   "metadata": {},
   "outputs": [
    {
     "name": "stdout",
     "output_type": "stream",
     "text": [
      "Accuracy Score: 0.975\n"
     ]
    }
   ],
   "source": [
    "print(\"Accuracy Score:\", accuracy_score(y_predlogr, y_test_01))"
   ]
  },
  {
   "cell_type": "code",
   "execution_count": 127,
   "id": "62ec0085",
   "metadata": {},
   "outputs": [
    {
     "name": "stdout",
     "output_type": "stream",
     "text": [
      "[[67  1]\n",
      " [ 1 11]]\n"
     ]
    }
   ],
   "source": [
    "print(confusion_matrix(y_test_01,y_predlogr))\n",
    "cm_lrc = confusion_matrix(y_test_01,y_predlogr)"
   ]
  },
  {
   "cell_type": "code",
   "execution_count": 100,
   "id": "8cad730a",
   "metadata": {},
   "outputs": [
    {
     "data": {
      "image/png": "[encoded data removed]",
      "text/plain": [
       "<Figure size 360x360 with 2 Axes>"
      ]
     },
     "metadata": {
      "needs_background": "light"
     },
     "output_type": "display_data"
    }
   ],
   "source": [
    "f, ax = plt.subplots(figsize =(5,5))\n",
    "sns.heatmap(cm_lrc,annot = True,linewidths=0.5,linecolor=\"red\",fmt = \".0f\",ax=ax)\n",
    "plt.title(\"Test for Test Dataset\")\n",
    "plt.xlabel(\"predicted y values\")\n",
    "plt.ylabel(\"real y values\")\n",
    "plt.show()"
   ]
  },
  {
   "cell_type": "markdown",
   "id": "8c148863",
   "metadata": {},
   "source": [
    "TP:11\n",
    "\n",
    "TN:67 \n",
    "\n",
    "FP:1\n",
    "\n",
    "FN:1"
   ]
  },
  {
   "cell_type": "code",
   "execution_count": 126,
   "id": "56df6b44",
   "metadata": {},
   "outputs": [
    {
     "name": "stdout",
     "output_type": "stream",
     "text": [
      "precision_score:  0.9166666666666666\n",
      "recall_score:  0.9166666666666666\n",
      "f1_score:  0.9166666666666666\n"
     ]
    }
   ],
   "source": [
    "print(\"precision_score: \", precision_score(y_test_01, y_predlogr))\n",
    "print(\"recall_score: \", recall_score(y_test_01, y_predlogr))\n",
    "\n",
    "\n",
    "print(\"f1_score: \",f1_score(y_test_01, y_predlogr))"
   ]
  },
  {
   "cell_type": "markdown",
   "id": "b6c33e7c",
   "metadata": {},
   "source": [
    "2. Decision Tree "
   ]
  },
  {
   "cell_type": "code",
   "execution_count": 102,
   "id": "0968babe",
   "metadata": {},
   "outputs": [
    {
     "name": "stdout",
     "output_type": "stream",
     "text": [
      "score:  0.925\n"
     ]
    }
   ],
   "source": [
    "dtc = DecisionTreeClassifier()\n",
    "dtc.fit(X_train,y_train_01)\n",
    "y_pred_dtc = dtc.predict(X_test)\n",
    "print(\"score: \", dtc.score(X_test,y_test_01))"
   ]
  },
  {
   "cell_type": "code",
   "execution_count": 124,
   "id": "0a0be8a2",
   "metadata": {},
   "outputs": [
    {
     "data": {
      "text/plain": [
       "array([[65,  3],\n",
       "       [ 3,  9]], dtype=int64)"
      ]
     },
     "execution_count": 124,
     "metadata": {},
     "output_type": "execute_result"
    }
   ],
   "source": [
    "cm_dtc = confusion_matrix(y_test_01, y_pred_dtc)\n",
    "cm_dtc"
   ]
  },
  {
   "cell_type": "code",
   "execution_count": 123,
   "id": "718f0cec",
   "metadata": {},
   "outputs": [
    {
     "data": {
      "image/png": "[encoded data removed]",
      "text/plain": [
       "<Figure size 360x360 with 2 Axes>"
      ]
     },
     "metadata": {
      "needs_background": "light"
     },
     "output_type": "display_data"
    }
   ],
   "source": [
    "f, ax = plt.subplots(figsize =(5,5))\n",
    "sns.heatmap(cm_dtc,annot = True,linewidths=0.5,linecolor=\"red\",fmt = \".0f\",ax=ax)\n",
    "plt.title(\"Test for Test Dataset\")\n",
    "plt.xlabel(\"predicted y values\")\n",
    "plt.ylabel(\"real y values\")\n",
    "plt.show()"
   ]
  },
  {
   "cell_type": "markdown",
   "id": "463cbd9f",
   "metadata": {},
   "source": [
    "TP:9\n",
    "\n",
    "TN:65\n",
    "\n",
    "FP:3\n",
    "\n",
    "FN:3"
   ]
  },
  {
   "cell_type": "code",
   "execution_count": 122,
   "id": "c7d3f338",
   "metadata": {},
   "outputs": [
    {
     "name": "stdout",
     "output_type": "stream",
     "text": [
      "precision_score:  0.75\n",
      "recall_score:  0.75\n",
      "f1_score:  0.75\n"
     ]
    }
   ],
   "source": [
    "print(\"precision_score: \", precision_score(y_test_01, y_pred_dtc))\n",
    "print(\"recall_score: \", recall_score(y_test_01, y_pred_dtc))\n",
    "\n",
    "print(\"f1_score: \",f1_score(y_test_01, y_pred_dtc))"
   ]
  },
  {
   "cell_type": "markdown",
   "id": "de5af290",
   "metadata": {},
   "source": [
    "5. Random Forest\n"
   ]
  },
  {
   "cell_type": "code",
   "execution_count": 121,
   "id": "5dd6a9f2",
   "metadata": {},
   "outputs": [
    {
     "name": "stdout",
     "output_type": "stream",
     "text": [
      "score:  0.9375\n"
     ]
    }
   ],
   "source": [
    "rfc = RandomForestClassifier(n_estimators = 100,random_state = 1)\n",
    "rfc.fit(X_train,y_train_01)\n",
    "\n",
    "y_pred_rfc = rfc.predict(X_test)\n",
    "\n",
    "print(\"score: \", rfc.score(X_test, y_test_01))"
   ]
  },
  {
   "cell_type": "code",
   "execution_count": 120,
   "id": "cc9f35b2",
   "metadata": {},
   "outputs": [
    {
     "data": {
      "text/plain": [
       "array([[65,  3],\n",
       "       [ 2, 10]], dtype=int64)"
      ]
     },
     "execution_count": 120,
     "metadata": {},
     "output_type": "execute_result"
    }
   ],
   "source": [
    "cm_rfc = confusion_matrix(y_test_01, y_pred_rfc)\n",
    "cm_rfc"
   ]
  },
  {
   "cell_type": "code",
   "execution_count": 119,
   "id": "35ae1b5e",
   "metadata": {},
   "outputs": [
    {
     "data": {
      "image/png": "[encoded data removed]",
      "text/plain": [
       "<Figure size 360x360 with 2 Axes>"
      ]
     },
     "metadata": {
      "needs_background": "light"
     },
     "output_type": "display_data"
    }
   ],
   "source": [
    "f, ax = plt.subplots(figsize =(5,5))\n",
    "sns.heatmap(cm_rfc,annot = True,linewidths=0.5,linecolor=\"red\",fmt = \".0f\",ax=ax)\n",
    "plt.title(\"Test for Test Dataset\")\n",
    "plt.xlabel(\"predicted y values\")\n",
    "plt.ylabel(\"real y values\")\n",
    "plt.show()"
   ]
  },
  {
   "cell_type": "markdown",
   "id": "920de577",
   "metadata": {},
   "source": [
    "TP:10 \n",
    "\n",
    "TN: 65\n",
    "\n",
    "FP:3\n",
    "\n",
    "FN:2"
   ]
  },
  {
   "cell_type": "markdown",
   "id": "9912d346",
   "metadata": {},
   "source": [
    "4. K Nearest Neighbors\n"
   ]
  },
  {
   "cell_type": "code",
   "execution_count": 111,
   "id": "37d58c5d",
   "metadata": {},
   "outputs": [
    {
     "data": {
      "image/png": "[encoded data removed]",
      "text/plain": [
       "<Figure size 432x288 with 1 Axes>"
      ]
     },
     "metadata": {
      "needs_background": "light"
     },
     "output_type": "display_data"
    }
   ],
   "source": [
    "scores = []\n",
    "for each in range(1,50):\n",
    "    knn_n = KNeighborsClassifier(n_neighbors = each)\n",
    "    knn_n.fit(X_train, y_train_01)\n",
    "    scores.append(knn_n.score(X_test, y_test_01))\n",
    "    \n",
    "plt.plot(range(1,50),scores)\n",
    "plt.xlabel(\"k\")\n",
    "plt.ylabel(\"accuracy\")\n",
    "plt.show()"
   ]
  },
  {
   "cell_type": "code",
   "execution_count": 115,
   "id": "5229138b",
   "metadata": {},
   "outputs": [
    {
     "name": "stdout",
     "output_type": "stream",
     "text": [
      "score of 3 : 0.925\n"
     ]
    }
   ],
   "source": [
    "knn = KNeighborsClassifier(n_neighbors = 3)\n",
    "knn.fit(X_train, y_train_01)\n",
    "\n",
    "y_pred_knn = knn.predict(X_test)\n",
    "print(\"score of 3 :\",knn.score(X_test,y_test_01))"
   ]
  },
  {
   "cell_type": "markdown",
   "id": "613a11d6",
   "metadata": {},
   "source": [
    "En ameliorant le modele en ajoutant juste 4 nous avons :"
   ]
  },
  {
   "cell_type": "code",
   "execution_count": 132,
   "id": "cc4f8ff4",
   "metadata": {},
   "outputs": [
    {
     "name": "stdout",
     "output_type": "stream",
     "text": [
      "score of 4 : 0.975\n"
     ]
    }
   ],
   "source": [
    "knn = KNeighborsClassifier(n_neighbors = 4)\n",
    "knn.fit(X_train, y_train_01)\n",
    "\n",
    "y_pred_knn = knn.predict(X_test)\n",
    "print(\"score of 4 :\",knn.score(X_test,y_test_01))"
   ]
  },
  {
   "cell_type": "code",
   "execution_count": 125,
   "id": "38f0a11b",
   "metadata": {},
   "outputs": [
    {
     "data": {
      "text/plain": [
       "array([[67,  1],\n",
       "       [ 1, 11]], dtype=int64)"
      ]
     },
     "execution_count": 125,
     "metadata": {},
     "output_type": "execute_result"
    }
   ],
   "source": [
    "cm_knn = confusion_matrix(y_test_01, y_pred_knn)\n",
    "cm_knn"
   ]
  },
  {
   "cell_type": "code",
   "execution_count": 118,
   "id": "256e2f51",
   "metadata": {},
   "outputs": [
    {
     "data": {
      "image/png": "[encoded data removed]",
      "text/plain": [
       "<Figure size 360x360 with 2 Axes>"
      ]
     },
     "metadata": {
      "needs_background": "light"
     },
     "output_type": "display_data"
    }
   ],
   "source": [
    "f, ax = plt.subplots(figsize =(5,5))\n",
    "sns.heatmap(cm_knn,annot = True,linewidths=0.5,linecolor=\"red\",fmt = \".0f\",ax=ax)\n",
    "plt.title(\"Test for Test Dataset\")\n",
    "plt.xlabel(\"predicted y values\")\n",
    "plt.ylabel(\"real y values\")\n",
    "plt.show()"
   ]
  },
  {
   "cell_type": "markdown",
   "id": "0e47856e",
   "metadata": {},
   "source": [
    "TP:67 L'algo a predis que 67 personnes ont ete admis et effectivement ils ont ete admis\n",
    "\n",
    "TN:11\n",
    "\n",
    "FP:1\n",
    "\n",
    "FN:1"
   ]
  },
  {
   "cell_type": "code",
   "execution_count": 129,
   "id": "36073a16",
   "metadata": {},
   "outputs": [
    {
     "name": "stdout",
     "output_type": "stream",
     "text": [
      "precision_score:  0.9166666666666666\n",
      "recall_score:  0.9166666666666666\n",
      "f1_score:  0.9166666666666666\n"
     ]
    }
   ],
   "source": [
    "print(\"precision_score: \", precision_score(y_test_01, y_pred_knn))\n",
    "print(\"recall_score: \", recall_score(y_test_01, y_pred_knn))\n",
    "\n",
    "\n",
    "print(\"f1_score: \",f1_score(y_test_01, y_pred_knn))"
   ]
  },
  {
   "cell_type": "markdown",
   "id": "fccd9a8a",
   "metadata": {},
   "source": [
    "# CONCLUSION"
   ]
  },
  {
   "cell_type": "markdown",
   "id": "5402b9cb",
   "metadata": {},
   "source": [
    "L'etude que nous avons mene pas a pas nous a permit a l'aide d'un jeu de donnée de :\n",
    "\n",
    "1. Comprendre un probleme social precis et proposer une solution afin de regler le probleme \n",
    "2. Choisir un jeu de données precis nous permettant de regler le probleme facilement\n",
    "3. Preparer les données en les nettoyant et les rendant utilisable\n",
    "4. Visualiser pour faciliter le choix des elements et connaitre l'importance de chaque element dans notre jeu de donnée\n",
    "5. Choisir les algorithmes a utiliser\n",
    "6. Utiliser les modeles appris \n",
    "7. Experimenter les precisions de notre travail;\n",
    "\n",
    "\n",
    "En fin de compte nous retenons le modele KNN car apres amelioration du parametrages nous nous retrouvons a 97% de precision quand a la prediction du taux d'admission.\n"
   ]
  },
  {
   "cell_type": "code",
   "execution_count": null,
   "id": "d8291dc2",
   "metadata": {},
   "outputs": [],
   "source": []
  }
 ],
 "metadata": {
  "kernelspec": {
   "display_name": "Python 3 (ipykernel)",
   "language": "python",
   "name": "python3"
  },
  "language_info": {
   "codemirror_mode": {
    "name": "ipython",
    "version": 3
   },
   "file_extension": ".py",
   "mimetype": "text/x-python",
   "name": "python",
   "nbconvert_exporter": "python",
   "pygments_lexer": "ipython3",
   "version": "3.9.12"
  }
 },
 "nbformat": 4,
 "nbformat_minor": 5
}
